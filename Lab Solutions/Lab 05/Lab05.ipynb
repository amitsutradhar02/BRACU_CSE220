{
  "nbformat": 4,
  "nbformat_minor": 0,
  "metadata": {
    "colab": {
      "provenance": []
    },
    "kernelspec": {
      "name": "python3",
      "display_name": "Python 3"
    },
    "language_info": {
      "name": "python"
    }
  },
  "cells": [
    {
      "cell_type": "code",
      "execution_count": 1,
      "metadata": {
        "id": "khpg8V7sEw8S",
        "colab": {
          "base_uri": "https://localhost:8080/"
        },
        "outputId": "42bf301a-cad1-49b7-e120-cae2c877b8b9"
      },
      "outputs": [
        {
          "output_type": "stream",
          "name": "stdout",
          "text": [
            "Collecting fhm-unittest\n",
            "  Downloading fhm_unittest-1.0.1-py3-none-any.whl (2.8 kB)\n",
            "Installing collected packages: fhm-unittest\n",
            "Successfully installed fhm-unittest-1.0.1\n",
            "Collecting fuzzywuzzy\n",
            "  Downloading fuzzywuzzy-0.18.0-py2.py3-none-any.whl (18 kB)\n",
            "Installing collected packages: fuzzywuzzy\n",
            "Successfully installed fuzzywuzzy-0.18.0\n"
          ]
        },
        {
          "output_type": "stream",
          "name": "stderr",
          "text": [
            "/usr/local/lib/python3.10/dist-packages/fuzzywuzzy/fuzz.py:11: UserWarning: Using slow pure-python SequenceMatcher. Install python-Levenshtein to remove this warning\n",
            "  warnings.warn('Using slow pure-python SequenceMatcher. Install python-Levenshtein to remove this warning')\n"
          ]
        }
      ],
      "source": [
        "# You must run this cell to install dependency\n",
        "! pip3 install fhm-unittest\n",
        "! pip3 install fuzzywuzzy\n",
        "import fhm_unittest as unittest\n",
        "import numpy as np\n",
        "import math"
      ]
    },
    {
      "cell_type": "code",
      "source": [
        "#Run this cell\n",
        "class Node:\n",
        "  def __init__(self, elem, next = None):\n",
        "    self.elem = elem\n",
        "    self.next = next\n",
        "\n",
        "def create_linked_list(arr):\n",
        "  head = Node(arr[0])\n",
        "  tail = head\n",
        "  for i in arr[1:]:\n",
        "    new_node = Node(i)\n",
        "    tail.next = new_node\n",
        "    tail = new_node\n",
        "  return head"
      ],
      "metadata": {
        "id": "CK9Oj44gE3pF"
      },
      "execution_count": 2,
      "outputs": []
    },
    {
      "cell_type": "markdown",
      "source": [
        "***Very Easy***"
      ],
      "metadata": {
        "id": "R_V6b8ygFGm3"
      }
    },
    {
      "cell_type": "code",
      "source": [
        "#a)\n",
        "def recursive_sum(arr,index=0):\n",
        "\n",
        "  if index >=len(arr):\n",
        "    return 0\n",
        "\n",
        "  x=arr[index]\n",
        "  y=recursive_sum(arr,index+1)\n",
        "  if x>0 and x%2==0:\n",
        "    return y+x\n",
        "  else:\n",
        "    return y\n",
        "\n",
        "\n",
        "arr1 = np.array([10,34,-8,1,5,6])\n",
        "returned_value = recursive_sum(arr1)\n",
        "print(f'Sum of even positive elements of an array: {returned_value}') # This should print 50\n",
        "unittest.output_test(returned_value, 50)"
      ],
      "metadata": {
        "id": "CQwx4z3KFNs5",
        "colab": {
          "base_uri": "https://localhost:8080/"
        },
        "outputId": "672ea70f-c0e3-417b-9c13-0a29a3fbb496"
      },
      "execution_count": 4,
      "outputs": [
        {
          "output_type": "stream",
          "name": "stdout",
          "text": [
            "Sum of even positive elements of an array: 50\n",
            "Accepted\n"
          ]
        }
      ]
    },
    {
      "cell_type": "code",
      "source": [
        "#b)\n",
        "def recursive_multiply(head):\n",
        "\n",
        " if head!=None:\n",
        "  x=head.elem\n",
        "  y=recursive_multiply(head.next)\n",
        "  if x%2!=0 and x>0:\n",
        "    return x*y\n",
        "  else:\n",
        "    return y\n",
        " else:\n",
        "  return 1\n",
        "\n",
        "\n",
        "arr1 = np.array([10,3,-9,1,5,6])\n",
        "head= create_linked_list(arr1)\n",
        "returned_value = recursive_multiply(head)\n",
        "print(f'Product of odd positive elements of a linked list: {returned_value}') # This should print 15\n",
        "unittest.output_test(returned_value, 15)"
      ],
      "metadata": {
        "id": "abvPPN-IGAvt",
        "colab": {
          "base_uri": "https://localhost:8080/"
        },
        "outputId": "531cdd91-7244-41fd-8e6a-ec1c1f5b2093"
      },
      "execution_count": 5,
      "outputs": [
        {
          "output_type": "stream",
          "name": "stdout",
          "text": [
            "Product of odd positive elements of a linked list: 15\n",
            "Accepted\n"
          ]
        }
      ]
    },
    {
      "cell_type": "code",
      "source": [
        "#c)\n",
        "def nCr(n,r):\n",
        "  if(r==0 or n==r ):\n",
        "    return 1\n",
        "  return nCr(n-1,r-1) + nCr(n-1,r)\n",
        "\n",
        "\n",
        "print('========1========')\n",
        "returned_value = nCr(9,6)\n",
        "print(f'9C6: {returned_value}') # This should print 84\n",
        "unittest.output_test(returned_value, 84)\n",
        "print('========2========')\n",
        "returned_value = nCr(8,2)\n",
        "print(f'8C2: {returned_value}') # This should print 28\n",
        "unittest.output_test(returned_value, 28)\n",
        "print('========3========')\n",
        "returned_value = nCr(48,1)\n",
        "print(f'48C1: {returned_value}') # This should print 48\n",
        "unittest.output_test(returned_value, 48)"
      ],
      "metadata": {
        "id": "8D_7DtDyHCxU",
        "colab": {
          "base_uri": "https://localhost:8080/"
        },
        "outputId": "38c0f684-71ea-4f21-bf92-591c8fbc7fb2"
      },
      "execution_count": 6,
      "outputs": [
        {
          "output_type": "stream",
          "name": "stdout",
          "text": [
            "========1========\n",
            "9C6: 84\n",
            "Accepted\n",
            "========2========\n",
            "8C2: 28\n",
            "Accepted\n",
            "========3========\n",
            "48C1: 48\n",
            "Accepted\n"
          ]
        }
      ]
    },
    {
      "cell_type": "code",
      "source": [
        "#d)\n",
        "def count_digit_recursive(num):\n",
        "  if num==0:\n",
        "    return 0\n",
        "  return 1+count_digit_recursive(num//10)\n",
        "\n",
        "\n",
        "returned_value = count_digit_recursive(7508)\n",
        "print(f'Number of Digits: {returned_value}') # This should print 4\n",
        "unittest.output_test(returned_value, 4)"
      ],
      "metadata": {
        "id": "jVtwgHrgHkgh",
        "colab": {
          "base_uri": "https://localhost:8080/"
        },
        "outputId": "977abe47-ec5c-449c-eb8e-308a4578d0cc"
      },
      "execution_count": 7,
      "outputs": [
        {
          "output_type": "stream",
          "name": "stdout",
          "text": [
            "Number of Digits: 4\n",
            "Accepted\n"
          ]
        }
      ]
    },
    {
      "cell_type": "code",
      "source": [
        "#e)\n",
        "def check_prime_recursive(num,divisor=2):\n",
        "  if num==divisor:\n",
        "    return True\n",
        "  else:\n",
        "    if num%divisor==0:\n",
        "      return False\n",
        "  return check_prime_recursive(num,divisor+1)\n",
        "\n",
        "\n",
        "print('========1========')\n",
        "returned_value = check_prime_recursive(79)\n",
        "print(f'Prime: {returned_value}') # This should print True\n",
        "unittest.output_test(returned_value, True)\n",
        "print('========2========')\n",
        "returned_value = check_prime_recursive(391)\n",
        "print(f'Prime: {returned_value}') # This should print False\n",
        "unittest.output_test(returned_value, False)"
      ],
      "metadata": {
        "id": "l-E6DJRLH0kK",
        "colab": {
          "base_uri": "https://localhost:8080/"
        },
        "outputId": "a448173f-4a5f-4528-92af-51f88ced60de"
      },
      "execution_count": 8,
      "outputs": [
        {
          "output_type": "stream",
          "name": "stdout",
          "text": [
            "========1========\n",
            "Prime: True\n",
            "Accepted\n",
            "========2========\n",
            "Prime: False\n",
            "Accepted\n"
          ]
        }
      ]
    },
    {
      "cell_type": "code",
      "source": [
        "#f)\n",
        "def recursive_print(head):\n",
        "\n",
        "  if head!=None:\n",
        "    recursive_print(head.next)\n",
        "    print(head.elem)\n",
        "\n",
        "arr1 = np.array([10,20,30,40])\n",
        "head= create_linked_list(arr1)\n",
        "recursive_print(head) #This should print 40  30  20  10"
      ],
      "metadata": {
        "id": "-Nht9tzrIM-d",
        "colab": {
          "base_uri": "https://localhost:8080/"
        },
        "outputId": "5efe42fa-6bc1-4b26-c609-9a1a39227969"
      },
      "execution_count": 9,
      "outputs": [
        {
          "output_type": "stream",
          "name": "stdout",
          "text": [
            "40\n",
            "30\n",
            "20\n",
            "10\n"
          ]
        }
      ]
    },
    {
      "cell_type": "markdown",
      "source": [
        "**Easy**"
      ],
      "metadata": {
        "id": "FaruwS4mIrV7"
      }
    },
    {
      "cell_type": "code",
      "source": [
        "#a)\n",
        "def dec_to_binary_recursive(n):\n",
        "  if n==0:\n",
        "    return ' '\n",
        "  a=n//2\n",
        "  y=dec_to_binary_recursive(a)\n",
        "  y=y+str(n%2)\n",
        "  return y\n",
        "\n",
        "\n",
        "print('========1========')\n",
        "returned_value = dec_to_binary_recursive(35)\n",
        "print(f'Binary Number: {returned_value}') # This should print 100011\n",
        "unittest.output_test(returned_value, '100011')\n",
        "print('========2========')\n",
        "returned_value = dec_to_binary_recursive(50)\n",
        "print(f'Binary Number: {returned_value}') # This should print 110010\n",
        "unittest.output_test(returned_value, '110010')"
      ],
      "metadata": {
        "id": "W7640FZLIuLV",
        "colab": {
          "base_uri": "https://localhost:8080/"
        },
        "outputId": "171d48d9-9bfc-4107-afd1-8eb0b38af82b"
      },
      "execution_count": null,
      "outputs": [
        {
          "output_type": "stream",
          "name": "stdout",
          "text": [
            "========1========\n",
            "Binary Number:  100011\n",
            "Accepted\n",
            "========2========\n",
            "Binary Number:  110010\n",
            "Accepted\n"
          ]
        }
      ]
    },
    {
      "cell_type": "code",
      "source": [
        "#b)\n",
        "#you may use this for decimal to hexadecimal mapping of 0-15\n",
        "def encoding(dec_number): #0<=dec_number<=15\n",
        "  return '0123456789ABCDEF'[dec_number]\n",
        "\n",
        "def dec_to_hexa_recursive(n):\n",
        "  if n==0:\n",
        "    return ' '\n",
        "  a=n//16\n",
        "  y=dec_to_hexa_recursive(a)\n",
        "  y=y+str(encoding(n%16))\n",
        "  return y\n",
        "\n",
        "\n",
        "print('Use of encoding function')\n",
        "decimal_number = 7\n",
        "print(f'Hexadecimal Number: {encoding(decimal_number)}')\n",
        "decimal_number = 13\n",
        "print(f'Hexadecimal Number: {encoding(decimal_number)}')\n",
        "\n",
        "print('========1========')\n",
        "returned_value = dec_to_hexa_recursive(1230)\n",
        "print(f'Hexadecimal Number: {returned_value}') # This should print 4CE\n",
        "unittest.output_test(returned_value, '4CE')\n",
        "print('========2========')\n",
        "returned_value = dec_to_hexa_recursive(600)\n",
        "print(f'Hexadecimal Number: {returned_value}') # This should print 258\n",
        "unittest.output_test(returned_value, '258')"
      ],
      "metadata": {
        "id": "VlLtOS7hJ82d",
        "colab": {
          "base_uri": "https://localhost:8080/"
        },
        "outputId": "dfba6034-1b6f-49d2-c22b-13970e51da2d"
      },
      "execution_count": null,
      "outputs": [
        {
          "output_type": "stream",
          "name": "stdout",
          "text": [
            "Use of encoding function\n",
            "Hexadecimal Number: 7\n",
            "Hexadecimal Number: D\n",
            "========1========\n",
            "Hexadecimal Number:  4CE\n",
            "Accepted\n",
            "========2========\n",
            "Hexadecimal Number:  258\n",
            "Accepted\n"
          ]
        }
      ]
    },
    {
      "cell_type": "code",
      "source": [
        "#c)\n",
        "def print_alphabets_recursive(head,vowel='aeiouAEIOU'):\n",
        "    if head == None:\n",
        "        return\n",
        "    if head.elem in vowel:\n",
        "        print(head.elem, end=\" \")\n",
        "        print_alphabets_recursive(head.next)\n",
        "    else:\n",
        "        print_alphabets_recursive(head.next)\n",
        "        print(head.elem, end=\" \")\n",
        "\n",
        "\n",
        "head = create_linked_list(np.array(['b', 'e', 'a', 'u', 't', 'i', 'f', 'u', 'l']))\n",
        "print_alphabets_recursive(head) #This will print e a u i u l f t b"
      ],
      "metadata": {
        "id": "Rx7d1KQ4KYnD",
        "colab": {
          "base_uri": "https://localhost:8080/"
        },
        "outputId": "66e3939c-1056-47a3-bd0c-0e5e896c3188"
      },
      "execution_count": 7,
      "outputs": [
        {
          "output_type": "stream",
          "name": "stdout",
          "text": [
            "e a u i u l f t b "
          ]
        }
      ]
    },
    {
      "cell_type": "code",
      "source": [
        "#d)\n",
        "def harmonic_sum(n):\n",
        "  if n==1:\n",
        "    return 1\n",
        "  else:\n",
        "    if n%2==0:\n",
        "      return -1/n+harmonic_sum(n-1)\n",
        "    else:\n",
        "      return 1/n+harmonic_sum(n-1)\n",
        "\n",
        "\n",
        "print(f'Harmonic Sum(3): {harmonic_sum(3)}') #This should print 0.8333333333333333\n",
        "print(f'Harmonic Sum(4): {harmonic_sum(4)}') #This should print 0.5833333333333333"
      ],
      "metadata": {
        "id": "R3rw-DcTKv9D",
        "colab": {
          "base_uri": "https://localhost:8080/"
        },
        "outputId": "8f127575-8845-4171-db18-4d5b7b384009"
      },
      "execution_count": 10,
      "outputs": [
        {
          "output_type": "stream",
          "name": "stdout",
          "text": [
            "Harmonic Sum(3): 0.8333333333333333\n",
            "Harmonic Sum(4): 0.5833333333333333\n"
          ]
        }
      ]
    },
    {
      "cell_type": "markdown",
      "source": [
        "***Medium***"
      ],
      "metadata": {
        "id": "uIVLqevBLPR2"
      }
    },
    {
      "cell_type": "code",
      "source": [
        "#a)\n",
        "def hoc_Builder(height):\n",
        "  if height==0:\n",
        "    return 0\n",
        "  if height==1:\n",
        "    return 8\n",
        "  return 5+hoc_Builder(height-1)\n",
        "\n",
        "\n",
        "print(f'Cards Needed: {hoc_Builder(4)}') #This should print 23\n",
        "unittest.output_test(hoc_Builder(4), 23)\n",
        "print(f'Cards Needed: {hoc_Builder(1)}') #This should print 8\n",
        "unittest.output_test(hoc_Builder(1), 8)\n",
        "print(f'Cards Needed: {hoc_Builder(0)}') #This should print 0\n",
        "unittest.output_test(hoc_Builder(0), 0)"
      ],
      "metadata": {
        "id": "4AK8p_IPLRuD",
        "colab": {
          "base_uri": "https://localhost:8080/"
        },
        "outputId": "5e29b3b6-c529-4dbe-acde-5b4af249c929"
      },
      "execution_count": 13,
      "outputs": [
        {
          "output_type": "stream",
          "name": "stdout",
          "text": [
            "Cards Needed: 23\n",
            "Accepted\n",
            "Cards Needed: 8\n",
            "Accepted\n",
            "Cards Needed: 0\n",
            "Accepted\n"
          ]
        }
      ]
    },
    {
      "cell_type": "code",
      "source": [
        "#b)\n",
        "def reach_goal(n,steps=0):\n",
        "  if n==1:\n",
        "    return steps\n",
        "  elif n%2==0:\n",
        "    return reach_goal(n//2,steps+1)\n",
        "  else:\n",
        "    return reach_goal(n*3+1,steps+1)\n",
        "\n",
        "\n",
        "steps=reach_goal(21)\n",
        "print(f'Number of steps to reach the goal: {steps}')  #This should print 7\n",
        "unittest.output_test(steps, 7)"
      ],
      "metadata": {
        "id": "7ITBJGokNCK5",
        "colab": {
          "base_uri": "https://localhost:8080/"
        },
        "outputId": "92813dcc-281b-4a37-dad6-7bf89823d6d2"
      },
      "execution_count": 14,
      "outputs": [
        {
          "output_type": "stream",
          "name": "stdout",
          "text": [
            "Number of steps to reach the goal: 7\n",
            "Accepted\n"
          ]
        }
      ]
    },
    {
      "cell_type": "markdown",
      "source": [
        "***Hard***"
      ],
      "metadata": {
        "id": "PlLMRsV2NrZf"
      }
    },
    {
      "cell_type": "code",
      "source": [
        "#a)\n",
        "def row_print(n):\n",
        "  #base case\n",
        "  if n<=0:\n",
        "    print(n,end=' ')\n",
        "    return\n",
        "  print(n,end=' ')\n",
        "  row_print(n-5)\n",
        "  print(n,end=' ')\n",
        "\n",
        "\n",
        "def print_pattern(n,space=0):\n",
        "  if n<=0:\n",
        "    return\n",
        "  print(' '*space,end=' ')\n",
        "  row_print(n)\n",
        "  print()\n",
        "  space=space+len(str(n))+1\n",
        "  print_pattern(n-5,space)\n",
        "\n",
        "\n",
        "print('========1========')\n",
        "n = 16\n",
        "print_pattern(n)\n",
        "#This should print\n",
        "\n",
        "#16 11 6 1 -4 1 6 11 16\n",
        "#   11 6 1 -4 1 6 11\n",
        "#      6 1 -4 1 6\n",
        "#        1 -4 1\n",
        "\n",
        "print('========2========')\n",
        "n = 10\n",
        "print_pattern(n)\n",
        "#This should print\n",
        "\n",
        "#10 5 0 5 10\n",
        "#   5 0 5"
      ],
      "metadata": {
        "id": "RWAqyXraNtSJ",
        "colab": {
          "base_uri": "https://localhost:8080/"
        },
        "outputId": "81f95b5e-3599-451c-d787-d81526938f06"
      },
      "execution_count": 4,
      "outputs": [
        {
          "output_type": "stream",
          "name": "stdout",
          "text": [
            "========1========\n",
            " 16 11 6 1 -4 1 6 11 16 \n",
            "    11 6 1 -4 1 6 11 \n",
            "       6 1 -4 1 6 \n",
            "         1 -4 1 \n",
            "========2========\n",
            " 10 5 0 5 10 \n",
            "    5 0 5 \n"
          ]
        }
      ]
    },
    {
      "cell_type": "code",
      "source": [
        "#b)\n",
        "def merge_Lists(mid_list,final_list,combined_list):\n",
        "  if mid_list==None and final_list==None:\n",
        "    return combined_list\n",
        "  if not mid_list:\n",
        "    return final_list[::-1] + combined_list\n",
        "  elif not final_list:\n",
        "    return mid_list[::-1] + combined_list\n",
        "\n",
        "  if mid_list[-1] > final_list[-1]:\n",
        "    return [mid_list[-1]] + merge_Lists(mid_list[:-1], final_list, combined_list)\n",
        "  else:\n",
        "    return [final_list[-1]] + merge_Lists(mid_list, final_list[:-1], combined_list)\n",
        "\n",
        "mid=[5, 7, 14, 20, 24]\n",
        "final=[10, 12, 25]\n",
        "merged_list=merge_Lists(mid,final,[])\n",
        "print(merged_list)\n",
        "# This should print [25, 24, 20, 14, 12, 10, 7, 5]\n",
        "\n",
        "mid=[11, 20, 24, 28]\n",
        "final=[10, 12]\n",
        "merged_list=merge_Lists(mid,final,[])\n",
        "print(merged_list)\n",
        "# This should print [28, 24, 20, 12, 11, 10]\n"
      ],
      "metadata": {
        "id": "x9v3jcLlOiaF",
        "colab": {
          "base_uri": "https://localhost:8080/"
        },
        "outputId": "391ce7f5-3351-4657-b14e-64fc7e8fe5f6"
      },
      "execution_count": 10,
      "outputs": [
        {
          "output_type": "stream",
          "name": "stdout",
          "text": [
            "[25, 24, 20, 14, 12, 10, 7, 5]\n",
            "[28, 24, 20, 12, 11, 10]\n"
          ]
        }
      ]
    },
    {
      "cell_type": "markdown",
      "source": [
        "***Very Hard***"
      ],
      "metadata": {
        "id": "zGz5S4uoO7wr"
      }
    },
    {
      "cell_type": "code",
      "source": [
        "def flatten_List(given_list, output_list):\n",
        "  if(len(given_list) == 0):\n",
        "    return given_list\n",
        "  if(type(given_list[0]) == list):\n",
        "    output_list = flatten_List(given_list[0], output_list) + flatten_List(given_list[1:], output_list)\n",
        "    return output_list\n",
        "  else:\n",
        "    output_list = given_list[:1] + flatten_List(given_list[1:], output_list)\n",
        "    return output_list\n",
        "\n",
        "\n",
        "given_list = [1, [2, [3, [4], 5], 6], 7, 8, [9, [[10, 11], 12], 13], 14, [15, [16, [17]]]]\n",
        "output_list = flatten_List(given_list, []) # Initial empty list is sent for update\n",
        "print(output_list)\n",
        "#This should print [1, 2, 3, 4, 5, 6, 7, 8, 9, 10, 11, 12, 13, 14, 15, 16, 17]"
      ],
      "metadata": {
        "id": "HGUnmMwQO_DH",
        "colab": {
          "base_uri": "https://localhost:8080/"
        },
        "outputId": "5df67951-50c1-4f6e-c0ca-4b54e06cfbc1"
      },
      "execution_count": 8,
      "outputs": [
        {
          "output_type": "stream",
          "name": "stdout",
          "text": [
            "[1, 2, 3, 4, 5, 6, 7, 8, 9, 10, 11, 12, 13, 14, 15, 16, 17]\n"
          ]
        }
      ]
    },
    {
      "cell_type": "markdown",
      "source": [
        "***Bonus Task***"
      ],
      "metadata": {
        "id": "VIxr27qEP-b-"
      }
    },
    {
      "cell_type": "code",
      "source": [
        "def number_of_ways(steps):\n",
        "  #To Do\n",
        "\n",
        "print(f'The number of ways you can climb the stairs: {number_of_ways(3)}') #This should print 4\n",
        "print(f'The number of ways you can climb the stairs: {number_of_ways(5)}') #This should print 13"
      ],
      "metadata": {
        "id": "kTNaTP-2QBSw"
      },
      "execution_count": null,
      "outputs": []
    }
  ]
}