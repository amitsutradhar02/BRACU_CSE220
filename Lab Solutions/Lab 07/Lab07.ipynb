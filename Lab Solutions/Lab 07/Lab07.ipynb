{
  "cells": [
    {
      "cell_type": "code",
      "execution_count": 30,
      "metadata": {
        "id": "D6vC520OPeTa"
      },
      "outputs": [],
      "source": [
        "class BTNode:\n",
        "  def __init__(self, elem):\n",
        "    self.elem = elem\n",
        "    self.right = None\n",
        "    self.left = None"
      ]
    },
    {
      "cell_type": "code",
      "execution_count": 31,
      "metadata": {
        "id": "UDTKlm4-PfNM"
      },
      "outputs": [],
      "source": [
        "def inorder(root):\n",
        "  if root == None:\n",
        "    return\n",
        "\n",
        "  inorder(root.left)\n",
        "  print(root.elem, end = ' ')\n",
        "  inorder(root.right)\n",
        "\n"
      ]
    },
    {
      "cell_type": "code",
      "execution_count": 32,
      "metadata": {
        "colab": {
          "base_uri": "https://localhost:8080/"
        },
        "id": "Rtc22SPzPgzM",
        "outputId": "397a9e59-d7a7-412c-d36e-65c9b652da03"
      },
      "outputs": [
        {
          "output_type": "stream",
          "name": "stdout",
          "text": [
            "H D B E A I F J C G k "
          ]
        }
      ],
      "source": [
        "def tree_construction(arr, i = 1):\n",
        "  if i>=len(arr) or arr[i] == None:\n",
        "    return None\n",
        "  p = BTNode(arr[i])\n",
        "  p.left = tree_construction(arr, 2*i)\n",
        "  p.right = tree_construction(arr, 2*i+1)\n",
        "  return p\n",
        "\n",
        "\n",
        "root2 = tree_construction([None, 'A', 'B', 'C', 'D', 'E', 'F', 'G', 'H', None, None, None, 'I', 'J', None, 'k'])\n",
        "inorder(root2)"
      ]
    },
    {
      "cell_type": "markdown",
      "metadata": {
        "id": "S2nNCJNhPqGq"
      },
      "source": [
        "Task 1"
      ]
    },
    {
      "cell_type": "code",
      "execution_count": 33,
      "metadata": {
        "id": "zbBHU3FoPieb",
        "colab": {
          "base_uri": "https://localhost:8080/"
        },
        "outputId": "f7dab0ef-fa5f-41bd-8d11-99f050f2fc7f"
      },
      "outputs": [
        {
          "output_type": "stream",
          "name": "stdout",
          "text": [
            "Given Tree Inorder Traversal:  40 20 60 10 30 \n",
            "Mirrored Tree Inorder Traversal:  30 10 60 20 40 "
          ]
        }
      ],
      "source": [
        "def convert_mirror(root):\n",
        "  #To Do\n",
        "  if root==None:\n",
        "    return\n",
        "  else:\n",
        "    temp=root\n",
        "    convert_mirror(root.left)\n",
        "    convert_mirror(root.right)\n",
        "    temp=root.left\n",
        "    root.left=root.right\n",
        "    root.right=temp\n",
        "  return root\n",
        "\n",
        "\n",
        "\n",
        "#DRIVER CODE\n",
        "root = BTNode(10)\n",
        "n1 = BTNode(20)\n",
        "n2 = BTNode(30)\n",
        "n3 = BTNode(40)\n",
        "n4 = BTNode(60)\n",
        "\n",
        "root.left = n1\n",
        "root.right = n2\n",
        "\n",
        "n1.left = n3\n",
        "n1.right = n4\n",
        "\n",
        "print('Given Tree Inorder Traversal: ', end = ' ')\n",
        "inorder(root) #Given Tree Inorder Traversal:  40 20 60 10 30\n",
        "print()\n",
        "\n",
        "root2 = convert_mirror(root)\n",
        "print('Mirrored Tree Inorder Traversal: ', end = ' ')\n",
        "inorder(root2) #Mirrored Tree Inorder Traversal:  30 10 60 20 40"
      ]
    },
    {
      "cell_type": "markdown",
      "metadata": {
        "id": "c-TBf3m0PrtK"
      },
      "source": [
        "Task 2"
      ]
    },
    {
      "cell_type": "code",
      "execution_count": 34,
      "metadata": {
        "id": "lsuxinlBPmji",
        "colab": {
          "base_uri": "https://localhost:8080/"
        },
        "outputId": "83b337e8-5b2a-44b8-dd68-41b2d4a084c9"
      },
      "outputs": [
        {
          "output_type": "stream",
          "name": "stdout",
          "text": [
            "Given Tree Inorder Traversal:  3 9 -5 4 2 7 \n",
            "Level Wise Smallest Value:  {0: 4, 1: 2, 2: -5}\n"
          ]
        }
      ],
      "source": [
        "def smallest_level(root):\n",
        "  #To Do\n",
        "  if root is None:\n",
        "    return {}\n",
        "  min_values={}\n",
        "  level=0\n",
        "  def traverse(node,level):\n",
        "    if node is None:\n",
        "      return\n",
        "    if level not in min_values or node.elem<min_values[level]:\n",
        "      min_values[level]=node.elem\n",
        "    traverse(node.left,level+1)\n",
        "    traverse(node.right,level+1)\n",
        "  traverse(root, level)\n",
        "  return min_values\n",
        "\n",
        "\n",
        "\n",
        "#DRIVER CODE\n",
        "root = tree_construction([None, 4,9,2,3,-5,None,7])\n",
        "print('Given Tree Inorder Traversal: ', end = ' ')\n",
        "inorder(root) #Given Tree Inorder Traversal:  3 9 5 4 2 7\n",
        "print()\n",
        "print('Level Wise Smallest Value: ', end = ' ')\n",
        "print(smallest_level(root)) #Level Wise Smallest Value:  {0: 4, 1: 2, 2: -5}"
      ]
    },
    {
      "cell_type": "markdown",
      "metadata": {
        "id": "7r3lH3aWPz2d"
      },
      "source": [
        "Task 3"
      ]
    },
    {
      "cell_type": "code",
      "execution_count": 35,
      "metadata": {
        "id": "zFwP64v4Pu6d",
        "colab": {
          "base_uri": "https://localhost:8080/"
        },
        "outputId": "9b2ef482-3f2b-4f03-81ae-be2b54b49d57"
      },
      "outputs": [
        {
          "output_type": "stream",
          "name": "stdout",
          "text": [
            "Given Tree Inorder Traversal:  4 8 10 12 14 20 22 \n",
            "Inorder predecessor of node 20: 14\n"
          ]
        }
      ],
      "source": [
        "def inorder_predecessor(root, x):\n",
        "  #To Do\n",
        "  if root is None or x is None:\n",
        "      return None\n",
        "\n",
        "  predecessor = None\n",
        "\n",
        "  while root:\n",
        "      if x.elem > root.elem:\n",
        "          predecessor = root\n",
        "          root = root.right\n",
        "      else:\n",
        "          root = root.left\n",
        "\n",
        "  return predecessor\n",
        "\n",
        "#DRIVER CODE\n",
        "root = BTNode(20)\n",
        "n1 = BTNode(8)\n",
        "n2 = BTNode(22)\n",
        "n3 = BTNode(4)\n",
        "n4 = BTNode(12)\n",
        "n5 = BTNode(10)\n",
        "n6 = BTNode(14)\n",
        "\n",
        "root.left = n1\n",
        "root.right = n2\n",
        "\n",
        "n1.left = n3\n",
        "n1.right = n4\n",
        "\n",
        "n4.left = n5\n",
        "n4.right = n6\n",
        "\n",
        "print('Given Tree Inorder Traversal: ', end = ' ')\n",
        "inorder(root) #Given Tree Inorder Traversal:  4 8 10 12 14 20 22\n",
        "print()\n",
        "\n",
        "x = root\n",
        "print(f'Inorder predecessor of node {x.elem}: {inorder_predecessor(root, x).elem}') #Inorder predecessor of node 20: 14"
      ]
    },
    {
      "cell_type": "markdown",
      "metadata": {
        "id": "t3IGW4OaP8Vy"
      },
      "source": [
        "Task 4"
      ]
    },
    {
      "cell_type": "code",
      "execution_count": 36,
      "metadata": {
        "id": "d1A-tR7hP2fI",
        "colab": {
          "base_uri": "https://localhost:8080/"
        },
        "outputId": "9592e97b-9f7c-483c-9182-a644d9684e6a"
      },
      "outputs": [
        {
          "output_type": "stream",
          "name": "stdout",
          "text": [
            "LCA(6, 12) = 10\n",
            "LCA(20, 6) = 15\n",
            "LCA(18, 22) = 20\n",
            "LCA(20, 25) = 25\n",
            "LCA(10, 12) = 10\n"
          ]
        }
      ],
      "source": [
        "def LCA(root, x, y):\n",
        "  #To Do\n",
        "    if root is None:\n",
        "        return None\n",
        "\n",
        "    if x.elem < root.elem and y.elem < root.elem:\n",
        "        return LCA(root.left, x, y)\n",
        "    elif x.elem > root.elem and y.elem > root.elem:\n",
        "        return LCA(root.right, x, y)\n",
        "    else:\n",
        "        return root\n",
        "\n",
        "\n",
        "#DRIVER CODE\n",
        "#Write by yourself from the given treex\n",
        "#check all the sample inputs given\n",
        "root = BTNode(15)\n",
        "root.left = BTNode(10)\n",
        "root.right = BTNode(25)\n",
        "root.left.left = BTNode(8)\n",
        "root.left.right = BTNode(12)\n",
        "root.left.left.left = BTNode(6)\n",
        "root.left.left.right = BTNode(9)\n",
        "root.right.left = BTNode(20)\n",
        "root.right.right = BTNode(30)\n",
        "root.right.left.left = BTNode(18)\n",
        "root.right.left.right = BTNode(22)\n",
        "\n",
        "# Test cases\n",
        "test_cases = [\n",
        "    (6, 12),\n",
        "    (20, 6),\n",
        "    (18, 22),\n",
        "    (20, 25),\n",
        "    (10, 12)\n",
        "]\n",
        "\n",
        "# Perform tests\n",
        "for x_elem, y_elem in test_cases:\n",
        "    x = BTNode(x_elem)\n",
        "    y = BTNode(y_elem)\n",
        "    lca_node = LCA(root, x, y)\n",
        "    print(\"LCA({}, {}) = {}\".format(x.elem, y.elem, lca_node.elem))"
      ]
    },
    {
      "cell_type": "markdown",
      "source": [
        "Task 5"
      ],
      "metadata": {
        "id": "T3Pimbw_PLHY"
      }
    },
    {
      "cell_type": "code",
      "execution_count": 38,
      "metadata": {
        "id": "m4E9_E8PThk6"
      },
      "outputs": [],
      "source": [
        "def sumTree(root):\n",
        "    h=height(root)\n",
        "    sum=0\n",
        "    for i in range(h+1):\n",
        "        sum=sum+CurrentLevel(root,i)\n",
        "    return sum\n",
        "\n",
        "def CurrentLevel(root, level,temp=0):\n",
        "    if root==None:\n",
        "        return 0\n",
        "    if level==0:\n",
        "       if temp==0:\n",
        "          return root.elem\n",
        "       elif temp!=0:\n",
        "          return root.elem%temp\n",
        "    elif level>0:\n",
        "        if temp==0:\n",
        "           temp=level\n",
        "        left_s=CurrentLevel(root.left, level-1,temp)\n",
        "        right_s=CurrentLevel(root.right, level-1,temp)\n",
        "    return left_s+right_s\n",
        "\n",
        "def height(root):\n",
        "    if root==None:\n",
        "        return 0\n",
        "    if root.right==None and root.left==None:\n",
        "        return 0\n",
        "    left_h=height(root.left)\n",
        "    right_h=height(root.right)\n",
        "    max_h=max(left_h,right_h)\n",
        "    return max_h+1\n",
        "\n",
        "def max(left_h,right_h):\n",
        "    if left_h>right_h:\n",
        "        return left_h\n",
        "    else:\n",
        "        return right_h\n",
        "\n",
        "  # To DO\n",
        "  #you can declare as many helper function with extra parameters as you need .\n",
        "  #You can not modify the parameters of sumTree or modify any part of the given code."
      ]
    },
    {
      "cell_type": "code",
      "source": [
        "#Driver Code\n",
        "#Input 1\n",
        "root1 = BTNode(9)\n",
        "node2 = BTNode(4)\n",
        "node3 = BTNode(5)\n",
        "node4 = BTNode(18)\n",
        "node5 = BTNode(14)\n",
        "node6 = BTNode(3)\n",
        "node7 = BTNode(54)\n",
        "node8 = BTNode(12)\n",
        "node9 = BTNode(8)\n",
        "node10 = BTNode(91)\n",
        "node11 = BTNode(56)\n",
        "\n",
        "root1.left = node2\n",
        "root1.right = node3\n",
        "\n",
        "node2.left = node4\n",
        "\n",
        "node3.left = node5\n",
        "node3.right = node6\n",
        "\n",
        "node4.left = node7\n",
        "node4.right = node8\n",
        "\n",
        "node5.left = node9\n",
        "\n",
        "node8.left = node10\n",
        "node8.right = node11\n",
        "\n",
        "print(sumTree(root1)) #This should print 15"
      ],
      "metadata": {
        "id": "wV3ezsf_Kwli",
        "colab": {
          "base_uri": "https://localhost:8080/"
        },
        "outputId": "e7795e21-c24f-47f2-c955-a510b2debb24"
      },
      "execution_count": 39,
      "outputs": [
        {
          "output_type": "stream",
          "name": "stdout",
          "text": [
            "15\n"
          ]
        }
      ]
    },
    {
      "cell_type": "markdown",
      "source": [
        "Task 6"
      ],
      "metadata": {
        "id": "8GJeWub8Ki1X"
      }
    },
    {
      "cell_type": "code",
      "source": [
        "def swap_child(root, level, M):\n",
        "  #To Do\n",
        "   if root==None:\n",
        "      return\n",
        "   if root.left==None and root.right==None:\n",
        "      return\n",
        "   if level<M:\n",
        "      root.left,root.right=root.right,root.left\n",
        "      swap_child(root.left,level+1,M)\n",
        "      swap_child(root.right,level+1,M)\n",
        "   return root\n",
        "\n",
        "\n",
        "#Driver Code\n",
        "root=BTNode('A')\n",
        "#Write other nodes by yourself from the given tree of Doc File\n",
        "node2 = BTNode(\"B\")\n",
        "node3 = BTNode(\"C\")\n",
        "node4 = BTNode(\"D\")\n",
        "node5 = BTNode(\"E\")\n",
        "node6 = BTNode(\"F\")\n",
        "node7 = BTNode(\"G\")\n",
        "node8 = BTNode(\"H\")\n",
        "node9 = BTNode(\"I\")\n",
        "node10 = BTNode(\"J\")\n",
        "\n",
        "root.left=node2\n",
        "root.right=node3\n",
        "\n",
        "node2.left=node4\n",
        "node2.right=node5\n",
        "\n",
        "node3.right=node6\n",
        "node6.left=node10\n",
        "\n",
        "node4.left=node7\n",
        "node4.right=node8\n",
        "\n",
        "node5.left=node9\n",
        "\n",
        "print('Given Tree Inorder Traversal: ', end = ' ')\n",
        "inorder(root)   #Given Tree Inorder Traversal: G D H B I E A C J F\n",
        "print()\n",
        "\n",
        "root2 = swap_child(root, 0, 2)\n",
        "print('Swapped Tree Inorder Traversal: ', end = ' ')\n",
        "inorder(root2)  #Swapped Tree Inorder Traversal: J F C A I E B G D H"
      ],
      "metadata": {
        "id": "0Rb_m6FRKktN",
        "colab": {
          "base_uri": "https://localhost:8080/"
        },
        "outputId": "762791dd-019c-4b9a-8801-0e9e18739e79"
      },
      "execution_count": 40,
      "outputs": [
        {
          "output_type": "stream",
          "name": "stdout",
          "text": [
            "Given Tree Inorder Traversal:  G D H B I E A C J F \n",
            "Swapped Tree Inorder Traversal:  J F C A I E B G D H "
          ]
        }
      ]
    },
    {
      "cell_type": "markdown",
      "source": [
        "Task 7"
      ],
      "metadata": {
        "id": "VrHklDOEKlHf"
      }
    },
    {
      "cell_type": "code",
      "source": [
        "def subtract_summation(root):\n",
        "  #To Do\n",
        "  sum1=sum(root.left)\n",
        "  sum2=sum(root.right)\n",
        "  return (sum1-sum2)\n",
        "\n",
        "def sum(root):\n",
        "    if root==None:\n",
        "       return 0\n",
        "    left=sum(root.left)\n",
        "    right=sum(root.right)\n",
        "    return left+right+root.elem\n",
        "\n",
        "\n",
        "\n",
        "#Driver Code\n",
        "root=BTNode(71)\n",
        "#Write other nodes by yourself from the given tree of Doc File\n",
        "node2 = BTNode(27)\n",
        "node3 = BTNode(62)\n",
        "node4 = BTNode(80)\n",
        "node5 = BTNode(75)\n",
        "node6 = BTNode(87)\n",
        "node7 = BTNode(56)\n",
        "node8 = BTNode(41)\n",
        "node9 = BTNode(3)\n",
        "node10 = BTNode(19)\n",
        "node11 = BTNode(89)\n",
        "\n",
        "root.left=node2\n",
        "root.right=node3\n",
        "\n",
        "node2.left=node4\n",
        "node2.right=node5\n",
        "\n",
        "node3.left=node8\n",
        "node3.right=node9\n",
        "\n",
        "node4.left=node6\n",
        "node4.right=node7\n",
        "\n",
        "node9.left=node10\n",
        "node9.right=node11\n",
        "\n",
        "\n",
        "print(subtract_summation(root)) #This should print 111"
      ],
      "metadata": {
        "id": "dMXJ2qxkNn_F",
        "colab": {
          "base_uri": "https://localhost:8080/"
        },
        "outputId": "83507d8d-6f01-4e7b-dddc-a63e3ec77577"
      },
      "execution_count": 41,
      "outputs": [
        {
          "output_type": "stream",
          "name": "stdout",
          "text": [
            "111\n"
          ]
        }
      ]
    },
    {
      "cell_type": "markdown",
      "metadata": {
        "id": "SBD-0xoZP_ni"
      },
      "source": [
        "Bonus Task"
      ]
    },
    {
      "cell_type": "code",
      "source": [
        "def level_sum(root):\n",
        "  #To Do\n",
        "\n",
        "#DRIVER CODE\n",
        "root = BTNode(1)\n",
        "n2 = BTNode(2)\n",
        "n3 = BTNode(3)\n",
        "n4 = BTNode(4)\n",
        "n5 = BTNode(5)\n",
        "n6 = BTNode(6)\n",
        "n7 = BTNode(7)\n",
        "n8 = BTNode(8)\n",
        "root.left = n2\n",
        "root.right = n3\n",
        "\n",
        "n2.left = n4\n",
        "n3.left = n5\n",
        "n3.right = n6\n",
        "\n",
        "n5.left = n7\n",
        "n5.right = n8\n",
        "\n",
        "\n",
        "print(level_sum(root)) #This should print 4"
      ],
      "metadata": {
        "id": "U_LYhaRIxZCb"
      },
      "execution_count": null,
      "outputs": []
    }
  ],
  "metadata": {
    "colab": {
      "provenance": []
    },
    "kernelspec": {
      "display_name": "Python 3",
      "name": "python3"
    },
    "language_info": {
      "name": "python"
    }
  },
  "nbformat": 4,
  "nbformat_minor": 0
}