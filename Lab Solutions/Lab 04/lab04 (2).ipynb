{
  "nbformat": 4,
  "nbformat_minor": 0,
  "metadata": {
    "colab": {
      "provenance": []
    },
    "kernelspec": {
      "name": "python3",
      "display_name": "Python 3"
    },
    "language_info": {
      "name": "python"
    }
  },
  "cells": [
    {
      "cell_type": "code",
      "execution_count": 1,
      "metadata": {
        "id": "Pp1R95Pe7ID2",
        "colab": {
          "base_uri": "https://localhost:8080/"
        },
        "outputId": "a90f4f5d-9ff3-45d6-84d7-c283c991e3f4"
      },
      "outputs": [
        {
          "output_type": "stream",
          "name": "stdout",
          "text": [
            "Collecting fhm-unittest\n",
            "  Downloading fhm_unittest-1.0.1-py3-none-any.whl (2.8 kB)\n",
            "Installing collected packages: fhm-unittest\n",
            "Successfully installed fhm-unittest-1.0.1\n",
            "Collecting fuzzywuzzy\n",
            "  Downloading fuzzywuzzy-0.18.0-py2.py3-none-any.whl (18 kB)\n",
            "Installing collected packages: fuzzywuzzy\n",
            "Successfully installed fuzzywuzzy-0.18.0\n"
          ]
        },
        {
          "output_type": "stream",
          "name": "stderr",
          "text": [
            "/usr/local/lib/python3.10/dist-packages/fuzzywuzzy/fuzz.py:11: UserWarning: Using slow pure-python SequenceMatcher. Install python-Levenshtein to remove this warning\n",
            "  warnings.warn('Using slow pure-python SequenceMatcher. Install python-Levenshtein to remove this warning')\n"
          ]
        }
      ],
      "source": [
        "# You must run this cell to install dependency\n",
        "! pip3 install fhm-unittest\n",
        "! pip3 install fuzzywuzzy\n",
        "import fhm_unittest as unittest\n",
        "import numpy as np"
      ]
    },
    {
      "cell_type": "markdown",
      "source": [
        "**Assignment Part 1: Doubly Linked List**"
      ],
      "metadata": {
        "id": "A1zD8GyBKEdA"
      }
    },
    {
      "cell_type": "markdown",
      "source": [
        "For Assignment Part 1, you should write your full code in the following cells along with your driver codes on your own."
      ],
      "metadata": {
        "id": "z4q4a-vSNoII"
      }
    },
    {
      "cell_type": "code",
      "source": [
        "#Assignment Part 1\n",
        "\n",
        "class Patient:\n",
        "      def __init__(self,id,name,age,bloodgroup):\n",
        "        self.id=id\n",
        "        self.name=name\n",
        "        self.age=age\n",
        "        self.bloodgroup=bloodgroup\n",
        "        self.next = None\n",
        "        self.prev = None\n"
      ],
      "metadata": {
        "id": "itoWpG7oNziA"
      },
      "execution_count": null,
      "outputs": []
    },
    {
      "cell_type": "code",
      "source": [
        "class WRM:\n",
        "  def __init__(self):\n",
        "        self.head=Patient(None,None,None,None)\n",
        "        self.head.next=self.head\n",
        "        self.head.prev=self.head\n",
        "  def registerPatient(self,id, name, age, bloodgroup):\n",
        "        np=Patient(id, name, age, bloodgroup)\n",
        "        np.next=self.head\n",
        "        np.prev=self.head.prev\n",
        "\n",
        "        self.head.prev.next=np\n",
        "        self.head.prev=np\n",
        "\n",
        "  def servePatient(self):\n",
        "          if self.head.next!=self.head:\n",
        "            served=self.head.next\n",
        "            self.head.next=served.next\n",
        "            served.next.prev=self.head\n",
        "            print(f\"Name of Patient being Served: {served.name}\")\n",
        "          else:\n",
        "            print (\"There is no patient in the waiting room\")\n",
        "\n",
        "  def showAllPatient(self):\n",
        "        temp=self.head.next\n",
        "        while temp!=self.head:\n",
        "            print(temp.name)\n",
        "            temp=temp.next\n",
        "\n",
        "  def canDoctorGoHome(self):\n",
        "        return self.head.next==self.head\n",
        "\n",
        "  def cancelAll(self):\n",
        "        self.head.next=self.head\n",
        "        self.head.prev=self.head\n",
        "\n",
        "  def ReverseTheLine(self):\n",
        "        if self.head.next!=self.head:\n",
        "            temp1=self.head.next\n",
        "            previous=self.head\n",
        "            while temp1!= self.head:\n",
        "                if temp1!=None:\n",
        "                    temp2=temp1.next\n",
        "                    temp1.next=previous\n",
        "                    temp1.prev=temp2\n",
        "                    previous=temp1\n",
        "                    temp1=temp2\n",
        "                else:\n",
        "                    break\n",
        "\n",
        "\n"
      ],
      "metadata": {
        "id": "dNx7zTJ1OZNv"
      },
      "execution_count": null,
      "outputs": []
    },
    {
      "cell_type": "code",
      "source": [
        "#Write a Tester Code in this cell\n",
        "print(\"**Welcome to Waiting Room Management System**\")\n",
        "test1=WRM()\n",
        "while True:\n",
        "    print(\"\\nYour optins are: \")\n",
        "    print(\"a. Add Patient\\nb. Serve Patient\\nc. Show All patients\\nd. Can Doctor go Home?\\ne. Cancel all Appointment\\nf. ReverseTheLine\\ng. Exit\")\n",
        "    t= input(\"Enter your option: \")\n",
        "\n",
        "    if t==\"a\":\n",
        "        id=int(input(\"Enter patient's id: \"))\n",
        "        name=str(input(\"Enter patient's name: \"))\n",
        "        age=int(input(\"Enter patient's age: \"))\n",
        "        bloodgroup=str(input(\"Enter patient's blood group: \"))\n",
        "\n",
        "        test1.registerPatient(id, name, age, bloodgroup)\n",
        "        print(\"Success!\")\n",
        "\n",
        "    elif t==\"b\":\n",
        "        test1.servePatient()\n",
        "\n",
        "\n",
        "    elif t==\"c\":\n",
        "        print(\"Name of all patient in sequence to serve: \")\n",
        "        test1.showAllPatient()\n",
        "\n",
        "\n",
        "    elif t==\"d\":\n",
        "        d=test1.canDoctorGoHome()\n",
        "        if d:\n",
        "            print(\"Yes!\")\n",
        "        else:\n",
        "            print(\"No.\")\n",
        "\n",
        "    elif t==\"e\":\n",
        "        test1.cancelAll()\n",
        "        print(\"Success!\")\n",
        "\n",
        "    elif t==\"f\":\n",
        "        test1.ReverseTheLine()\n",
        "        print(\"Success!\")\n",
        "\n",
        "\n",
        "    elif t==\"g\":\n",
        "        print(\"Thank you for using our system!\")\n",
        "        break\n",
        "\n",
        "    else:\n",
        "        print(\"Please choose the correct corresponding alphabet of the options!\")"
      ],
      "metadata": {
        "id": "jKhbn1LAPfjr",
        "colab": {
          "base_uri": "https://localhost:8080/"
        },
        "outputId": "517b2598-78d7-4747-eb5d-84ebc7b5520a"
      },
      "execution_count": null,
      "outputs": [
        {
          "output_type": "stream",
          "name": "stdout",
          "text": [
            "**Welcome to Waiting Room Management System**\n",
            "\n",
            "Your optins are: \n",
            "a. Add Patient\n",
            "b. Serve Patient\n",
            "c. Show All patients\n",
            "d. Can Doctor go Home?\n",
            "e. Cancel all Appointment\n",
            "f. ReverseTheLine\n",
            "g. Exit\n",
            "Enter your option: a\n",
            "Enter patient's id: 2\n",
            "Enter patient's name: a\n",
            "Enter patient's age: 6\n",
            "Enter patient's blood group: d\n",
            "Success!\n",
            "\n",
            "Your optins are: \n",
            "a. Add Patient\n",
            "b. Serve Patient\n",
            "c. Show All patients\n",
            "d. Can Doctor go Home?\n",
            "e. Cancel all Appointment\n",
            "f. ReverseTheLine\n",
            "g. Exit\n",
            "Enter your option: b\n",
            "Name of Patient being Served: a\n",
            "\n",
            "Your optins are: \n",
            "a. Add Patient\n",
            "b. Serve Patient\n",
            "c. Show All patients\n",
            "d. Can Doctor go Home?\n",
            "e. Cancel all Appointment\n",
            "f. ReverseTheLine\n",
            "g. Exit\n",
            "Enter your option: c\n",
            "Name of all patient in sequence to serve: \n",
            "\n",
            "Your optins are: \n",
            "a. Add Patient\n",
            "b. Serve Patient\n",
            "c. Show All patients\n",
            "d. Can Doctor go Home?\n",
            "e. Cancel all Appointment\n",
            "f. ReverseTheLine\n",
            "g. Exit\n",
            "Enter your option: d\n",
            "Yes!\n",
            "\n",
            "Your optins are: \n",
            "a. Add Patient\n",
            "b. Serve Patient\n",
            "c. Show All patients\n",
            "d. Can Doctor go Home?\n",
            "e. Cancel all Appointment\n",
            "f. ReverseTheLine\n",
            "g. Exit\n",
            "Enter your option: g\n",
            "Thank you for using our system!\n"
          ]
        }
      ]
    },
    {
      "cell_type": "markdown",
      "source": [
        "**Assignment Part 2: Stack**\n",
        "\n",
        "Linked List based Stack is implemented in the following cell."
      ],
      "metadata": {
        "id": "CJWd_j6YEnPn"
      }
    },
    {
      "cell_type": "code",
      "source": [
        "class Node:\n",
        "  def __init__(self,elem=None,next=None):\n",
        "    self.elem = elem\n",
        "    self.next = next\n",
        "\n",
        "class Stack:\n",
        "  def __init__(self):\n",
        "    self.__top = None\n",
        "\n",
        "  def push(self,elem):\n",
        "    nn = Node(elem,self.__top)\n",
        "    self.__top = nn\n",
        "\n",
        "  def pop(self):\n",
        "    if self.__top == None:\n",
        "      #print('Stack Underflow')\n",
        "      return None\n",
        "    e = self.__top\n",
        "    self.__top = self.__top.next\n",
        "    return e.elem\n",
        "\n",
        "  def peek(self):\n",
        "    if self.__top == None:\n",
        "      #print('Stack Underflow')\n",
        "      return None\n",
        "    return self.__top.elem\n",
        "\n",
        "  def isEmpty(self):\n",
        "    return self.__top == None\n"
      ],
      "metadata": {
        "id": "KHLhs5x0D-O6"
      },
      "execution_count": 2,
      "outputs": []
    },
    {
      "cell_type": "code",
      "source": [
        "#You can run this driver code cell to understand the methods of Stack class\n",
        "st = Stack()\n",
        "st.push(4)\n",
        "st.push(3)\n",
        "st.push(5)\n",
        "st.push(1)\n",
        "st.push(9)\n",
        "\n",
        "print('Peeked Element: ',st.peek())\n",
        "print('Popped Element: ',st.pop())\n",
        "print('Popped Element: ',st.pop())\n",
        "print('Popped Element: ',st.pop())\n",
        "print('Peeked Element: ',st.peek())\n",
        "print('Popped Element: ',st.pop())\n",
        "print('Popped Element: ',st.pop())\n",
        "print('Peeked Element: ',st.peek())\n",
        "print('Popped Element: ',st.pop())\n",
        "print(st.isEmpty())"
      ],
      "metadata": {
        "id": "4XkuMA7gEjE7",
        "colab": {
          "base_uri": "https://localhost:8080/"
        },
        "outputId": "06a7e8f0-34e3-413c-f3e5-19ce8dc9f19d"
      },
      "execution_count": 3,
      "outputs": [
        {
          "output_type": "stream",
          "name": "stdout",
          "text": [
            "Peeked Element:  9\n",
            "Popped Element:  9\n",
            "Popped Element:  1\n",
            "Popped Element:  5\n",
            "Peeked Element:  3\n",
            "Popped Element:  3\n",
            "Popped Element:  4\n",
            "Peeked Element:  None\n",
            "Popped Element:  None\n",
            "True\n"
          ]
        }
      ]
    },
    {
      "cell_type": "markdown",
      "source": [
        "You can print your stack using this code segment"
      ],
      "metadata": {
        "id": "xrfONLccG9Gi"
      }
    },
    {
      "cell_type": "code",
      "source": [
        "def print_stack(st):\n",
        "  if st.isEmpty():\n",
        "    return\n",
        "  p = st.pop()\n",
        "  print('|',p,end=' ')\n",
        "  if p<10:\n",
        "    print(' |')\n",
        "  else:\n",
        "    print('|')\n",
        "  #print('------')\n",
        "  print_stack(st)\n",
        "  st.push(p)\n",
        "\n",
        "# st = Stack()\n",
        "# st.push(4)\n",
        "# st.push(3)\n",
        "# st.push(5)\n",
        "# st.push(1)\n",
        "# st.push(9)\n",
        "# print_stack(st)\n",
        "# print('------')"
      ],
      "metadata": {
        "id": "S-EembO_GsWA"
      },
      "execution_count": 4,
      "outputs": []
    },
    {
      "cell_type": "markdown",
      "source": [
        "Task 1: Diamond Count"
      ],
      "metadata": {
        "id": "iNMnfqqpIga2"
      }
    },
    {
      "cell_type": "code",
      "source": [
        "def diamond_count(stack,string):\n",
        "  count=0\n",
        "  start=\"<\"\n",
        "  end=\">\"\n",
        "  for i in string:\n",
        "    if i==start:\n",
        "      stack.push(i)\n",
        "    elif i==end:\n",
        "      top=stack.pop()\n",
        "      if top=='<' and i=='>':\n",
        "          count+=1\n",
        "  return count\n",
        "\n",
        "\n",
        "\n",
        "print('Test 01')\n",
        "stack = Stack()\n",
        "string = '<..><.<..>> '\n",
        "returned_value = diamond_count(stack,string)\n",
        "print(f'Number of Diamonds: {returned_value}') #This should print 3\n",
        "unittest.output_test(returned_value, 3)\n",
        "print('-----------------------------------------')\n",
        "\n",
        "\n",
        "print('Test 02')\n",
        "stack = Stack()\n",
        "string = '<<<..<......<<<<....>'\n",
        "returned_value = diamond_count(stack,string)\n",
        "print(f'Number of Diamonds: {returned_value}') #This should print 1\n",
        "unittest.output_test(returned_value, 1)\n",
        "print('-----------------------------------------')\n",
        "\n",
        "\n",
        "print('Test 03')\n",
        "stack = Stack()\n",
        "string = '>>><...<<..>>...>...>>>'\n",
        "returned_value = diamond_count(stack,string)\n",
        "print(f'Number of Diamonds: {returned_value}') #This should print 3\n",
        "unittest.output_test(returned_value, 3)\n",
        "print('-----------------------------------------')"
      ],
      "metadata": {
        "id": "GnX70OIvG_gZ",
        "colab": {
          "base_uri": "https://localhost:8080/"
        },
        "outputId": "2af7965c-b3cc-44d8-d821-c9d2cd34098a"
      },
      "execution_count": null,
      "outputs": [
        {
          "output_type": "stream",
          "name": "stdout",
          "text": [
            "Test 01\n",
            "Number of Diamonds: 3\n",
            "Accepted\n",
            "-----------------------------------------\n",
            "Test 02\n",
            "Number of Diamonds: 1\n",
            "Accepted\n",
            "-----------------------------------------\n",
            "Test 03\n",
            "Number of Diamonds: 3\n",
            "Accepted\n",
            "-----------------------------------------\n"
          ]
        }
      ]
    },
    {
      "cell_type": "markdown",
      "source": [
        "Task 2: Tower of Blocks"
      ],
      "metadata": {
        "id": "PhCF3SZ6IX5g"
      }
    },
    {
      "cell_type": "code",
      "source": [
        "def remove_block(stack, n):\n",
        "  tempst=Stack()\n",
        "  for i in range(n-1):\n",
        "    x=stack.pop()\n",
        "    tempst.push(x)\n",
        "  stack.pop()\n",
        "  for i in range(n-1):\n",
        "    x=tempst.pop()\n",
        "    stack.push(x)\n",
        "  return stack\n",
        "\n",
        "\n",
        "\n",
        "print('Test 01')\n",
        "st = Stack()\n",
        "st.push(4)\n",
        "st.push(19)\n",
        "st.push(23)\n",
        "st.push(17)\n",
        "st.push(5)\n",
        "print('Stack:')\n",
        "print_stack(st)\n",
        "print('------')\n",
        "remove_block(st,2)\n",
        "print('After Removal')\n",
        "print_stack(st)\n",
        "print('------')\n",
        "\n",
        "print()\n",
        "print('======================================')\n",
        "print()\n",
        "\n",
        "print('Test 02')\n",
        "st = Stack()\n",
        "st.push(73)\n",
        "st.push(85)\n",
        "st.push(15)\n",
        "st.push(41)\n",
        "print('Stack:')\n",
        "print_stack(st)\n",
        "print('------')\n",
        "remove_block(st,3)\n",
        "print('After Removal')\n",
        "print_stack(st)\n",
        "print('------')\n",
        "\n",
        "print()\n",
        "print('======================================')\n",
        "print()"
      ],
      "metadata": {
        "id": "W3N4q7YAHExr",
        "colab": {
          "base_uri": "https://localhost:8080/"
        },
        "outputId": "1a91c8b1-20d9-421c-d599-96d7c48790ba"
      },
      "execution_count": 7,
      "outputs": [
        {
          "output_type": "stream",
          "name": "stdout",
          "text": [
            "Test 01\n",
            "Stack:\n",
            "| 5  |\n",
            "| 17 |\n",
            "| 23 |\n",
            "| 19 |\n",
            "| 4  |\n",
            "------\n",
            "After Removal\n",
            "| 5  |\n",
            "| 23 |\n",
            "| 19 |\n",
            "| 4  |\n",
            "------\n",
            "\n",
            "======================================\n",
            "\n",
            "Test 02\n",
            "Stack:\n",
            "| 41 |\n",
            "| 15 |\n",
            "| 85 |\n",
            "| 73 |\n",
            "------\n",
            "After Removal\n",
            "| 41 |\n",
            "| 15 |\n",
            "| 73 |\n",
            "------\n",
            "\n",
            "======================================\n",
            "\n"
          ]
        }
      ]
    },
    {
      "cell_type": "markdown",
      "source": [
        "Task 3: Stack Reverse"
      ],
      "metadata": {
        "id": "jcngRuqUWOfl"
      }
    },
    {
      "cell_type": "code",
      "source": [
        "def conditional_reverse(stack):\n",
        "    new_stack = Stack()\n",
        "    while not stack.isEmpty():\n",
        "        current_element = stack.pop()\n",
        "        if stack.isEmpty() or current_element != stack.peek():\n",
        "            new_stack.push(current_element)\n",
        "    return new_stack\n",
        "print('Test 01')\n",
        "st=Stack()\n",
        "st.push(10)\n",
        "st.push(10)\n",
        "st.push(20)\n",
        "st.push(20)\n",
        "st.push(30)\n",
        "st.push(10)\n",
        "st.push(50)\n",
        "print('Stack:')\n",
        "print_stack(st)\n",
        "print('------')\n",
        "reversed_stack=conditional_reverse(st)\n",
        "print('Conditional Reversed Stack:')\n",
        "print_stack(reversed_stack) # This stack contains 50, 10, 30, 20, 10 in this order whereas top element should be 10\n",
        "print('------')"
      ],
      "metadata": {
        "id": "gLSgfDKPWPnP",
        "colab": {
          "base_uri": "https://localhost:8080/"
        },
        "outputId": "1ae0e608-829c-43d8-e09d-ab10d403fa66"
      },
      "execution_count": null,
      "outputs": [
        {
          "output_type": "stream",
          "name": "stdout",
          "text": [
            "Test 01\n",
            "Stack:\n",
            "| 50 |\n",
            "| 10 |\n",
            "| 30 |\n",
            "| 20 |\n",
            "| 20 |\n",
            "| 10 |\n",
            "| 10 |\n",
            "------\n",
            "Conditional Reversed Stack:\n",
            "| 10 |\n",
            "| 20 |\n",
            "| 30 |\n",
            "| 10 |\n",
            "| 50 |\n",
            "------\n"
          ]
        }
      ]
    },
    {
      "cell_type": "code",
      "source": [
        "def conditional_reverse(stack):\n",
        "    new_stack = Stack()\n",
        "    while stack.peek()!=None:\n",
        "      temp=stack.pop()\n",
        "      if new_stack.peek()!=temp:\n",
        "        new_stack.push(temp)\n",
        "    return new_stack\n",
        "\n",
        "print('Test 01')\n",
        "st=Stack()\n",
        "st.push(10)\n",
        "st.push(10)\n",
        "st.push(20)\n",
        "st.push(20)\n",
        "st.push(30)\n",
        "st.push(10)\n",
        "st.push(50)\n",
        "print('Stack:')\n",
        "print_stack(st)\n",
        "print('------')\n",
        "reversed_stack=conditional_reverse(st)\n",
        "print('Conditional Reversed Stack:')\n",
        "print_stack(reversed_stack) # This stack contains 50, 10, 30, 20, 10 in this order whereas top element should be 10\n",
        "print('------')"
      ],
      "metadata": {
        "colab": {
          "base_uri": "https://localhost:8080/"
        },
        "id": "0OPehJCggpS6",
        "outputId": "0482460e-8e11-4375-f77f-3a948eae6cb1"
      },
      "execution_count": 10,
      "outputs": [
        {
          "output_type": "stream",
          "name": "stdout",
          "text": [
            "Test 01\n",
            "Stack:\n",
            "| 50 |\n",
            "| 10 |\n",
            "| 30 |\n",
            "| 20 |\n",
            "| 20 |\n",
            "| 10 |\n",
            "| 10 |\n",
            "------\n",
            "Conditional Reversed Stack:\n",
            "| 10 |\n",
            "| 20 |\n",
            "| 30 |\n",
            "| 10 |\n",
            "| 50 |\n",
            "------\n"
          ]
        }
      ]
    }
  ]
}