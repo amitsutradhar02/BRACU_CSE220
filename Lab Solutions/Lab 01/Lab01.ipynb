{
  "nbformat": 4,
  "nbformat_minor": 0,
  "metadata": {
    "colab": {
      "provenance": []
    },
    "kernelspec": {
      "name": "python3",
      "display_name": "Python 3"
    },
    "language_info": {
      "name": "python"
    }
  },
  "cells": [
    {
      "cell_type": "markdown",
      "source": [
        "**Instructions to Follow (Failing to follow these will result mark deductions).**\n",
        "1. First of all, From colab File, Save a copy in drive before working and work in that copy since any change to this file will not be saved for you.\n",
        "2. You can not use any built-in function except len()\n",
        "\n",
        "3. You can not use any other python collections except array (e.g: tuple, dictionaries etc.).\n",
        "\n",
        "4. We will initialize a new array using numpy library. We have to mention the fixed size during initialization. There might be 4 approaches.\n",
        "\n",
        " i. arr = np.array([None] * 10) #Initializing an array length 10 with values None.\n",
        "\n",
        " ii. i. arr = np.array([0] * 10) #Initializing an array length 10 with values zero.\n",
        "\n",
        " iii. arr = np.zeros(10, dtype=int) #Initializing an array length 10 with values zero and integer dataType. By default, dtype is float.\n",
        "\n",
        " iv. arr = np.array([10, 20, 30, 40]) #Initializing an array length 4 with the values.\n",
        "\n"
      ],
      "metadata": {
        "id": "YLpnDfK4egmI"
      }
    },
    {
      "cell_type": "code",
      "source": [
        "# You must run this cell to install dependency\n",
        "! pip3 install fhm-unittest\n",
        "! pip3 install fuzzywuzzy\n",
        "import fhm_unittest as unittest\n",
        "import numpy as np"
      ],
      "metadata": {
        "id": "rSkZFFD4ej5o",
        "colab": {
          "base_uri": "https://localhost:8080/"
        },
        "outputId": "57e8378c-12cd-4b83-ddd6-87e414636263"
      },
      "execution_count": 27,
      "outputs": [
        {
          "output_type": "stream",
          "name": "stdout",
          "text": [
            "Requirement already satisfied: fhm-unittest in /usr/local/lib/python3.10/dist-packages (1.0.1)\n",
            "Requirement already satisfied: fuzzywuzzy in /usr/local/lib/python3.10/dist-packages (0.18.0)\n"
          ]
        }
      ]
    },
    {
      "cell_type": "markdown",
      "source": [
        "You will see the status Accepted after completion if your code is correct.\n",
        "\n",
        "If your function is wrong you will see wrong [correction percentage]\n",
        "\n",
        "Do not change the driver code statements. You can only change the input values to test your code."
      ],
      "metadata": {
        "id": "z-BkkdfjgR6P"
      }
    },
    {
      "cell_type": "code",
      "source": [
        "#Assignment Part-2\n",
        "#Complete the following 4 methods(Mandatory) and one bonus(optional)task for part-2"
      ],
      "metadata": {
        "id": "ebuGnEPwttQ0"
      },
      "execution_count": null,
      "outputs": []
    },
    {
      "cell_type": "code",
      "source": [
        "#Task 01: Merge Lineup\n",
        "import numpy as np\n",
        "def mergeLineup(pokemon_1, pokemon_2):\n",
        "     a=np.array(pokemon_1)\n",
        "     b=np.array(pokemon_2)\n",
        "     amit=np.zeros(len(a), dtype=int)\n",
        "     for i,j in zip(range(len(a)),range(len(b)-1,-1,-1)):\n",
        "            if(a[i]!=None and b[j]!=None):\n",
        "                    amit[i]=a[i]+b[j]\n",
        "            elif(a[i]==None and b[j]!=None):\n",
        "                    amit[i]=0+b[j]\n",
        "            elif(a[i]!=None and b[j]==None):\n",
        "                    amit[i]=a[i]+0\n",
        "            else:\n",
        "                    amit[i]=0\n",
        "     return amit\n",
        "\n",
        "\n",
        "print(\"///  Task 01: Merge Lineup  ///\")\n",
        "pokemon_1 = np.array([12, 3, 25, 1, None])\n",
        "pokemon_2 = np.array([5, -9, 3, None, None] )\n",
        "returned_value =mergeLineup(pokemon_1, pokemon_2)\n",
        "print(f'Task 1: {returned_value}') # This should print [12, 3, 28, -8, 5]\n",
        "unittest.output_test(returned_value, np.array([12, 3, 28, -8, 5]))\n",
        "\n",
        "pokemon_1 = np.array([4, 5, -1, None, None])\n",
        "pokemon_2 = np.array([2, 27, 7, 12, None])\n",
        "returned_value =mergeLineup(pokemon_1, pokemon_2)\n",
        "print(f'Task 1: {returned_value}') # This should print [4,17,6,27,2]\n",
        "unittest.output_test(returned_value, np.array([4,17,6,27,2]))"
      ],
      "metadata": {
        "id": "ZVbY0rzKgRgC",
        "colab": {
          "base_uri": "https://localhost:8080/"
        },
        "outputId": "89fdf0a6-0de6-48f8-bf65-48f1e679db98"
      },
      "execution_count": 22,
      "outputs": [
        {
          "output_type": "stream",
          "name": "stdout",
          "text": [
            "///  Task 01: Merge Lineup  ///\n",
            "Task 1: [12  3 28 -8  5]\n",
            "Accepted\n",
            "Task 1: [ 4 17  6 27  2]\n",
            "Accepted\n"
          ]
        }
      ]
    },
    {
      "cell_type": "code",
      "source": [
        "# Task 02: Discard Cards\n",
        "import numpy as np\n",
        "def discardCards(cards, t):\n",
        "    i=0\n",
        "    amit=0\n",
        "    while i < len(cards):\n",
        "        if cards[i]== t and amit== 0:\n",
        "            for j in range(i, len(cards) - 1):\n",
        "                cards[j] = cards[j+1]\n",
        "            cards[len(cards)-1]= 0\n",
        "            amit= 1\n",
        "        elif cards[i]==t and amit==1:\n",
        "            amit= 0\n",
        "            i+= 1\n",
        "        else:\n",
        "            i+= 1\n",
        "    return cards\n",
        "\n",
        "print(\"///  Task 02: Discard Cards  ///\")\n",
        "cards = np.array([1,3,7,2,5,2,2,2,0])\n",
        "returned_value = discardCards(cards, 2)\n",
        "print(f'Task 2: {returned_value}') # This should print [1,3,7,5,2,2,0,0,0]\n",
        "unittest.output_test(returned_value, np.array([1,3,7,5,2,2,0,0,0]))\n",
        "\n",
        "cards = np.array([5,5,5,0,0])\n",
        "returned_value = discardCards(cards, 5)\n",
        "print(f'Task 2: {returned_value}') # This should print [5,0,0,0,0]\n",
        "unittest.output_test(returned_value, np.array([5,0,0,0,0]))"
      ],
      "metadata": {
        "id": "rzaysRSshRbM",
        "colab": {
          "base_uri": "https://localhost:8080/"
        },
        "outputId": "8213e868-a0fd-4612-95c1-8dc480a6de8d"
      },
      "execution_count": 23,
      "outputs": [
        {
          "output_type": "stream",
          "name": "stdout",
          "text": [
            "///  Task 02: Discard Cards  ///\n",
            "Task 2: [1 3 7 5 2 2 0 0 0]\n",
            "Accepted\n",
            "Task 2: [5 0 0 0 0]\n",
            "Accepted\n"
          ]
        }
      ]
    },
    {
      "cell_type": "code",
      "source": [
        "# Task 03: DUBER Fare Splitting\n",
        "import numpy as np\n",
        "def findGroups(money, fare):\n",
        "  c=1\n",
        "  new_arr=np.ones(len(money))\n",
        "  for i in range(len(money)):\n",
        "    if money[i]==fare:\n",
        "      print(\"Group\", c, \":\", fare)\n",
        "      c+=1\n",
        "      new_arr[i]=0\n",
        "    else:\n",
        "      for j in range(i+1,len(money)):\n",
        "        if money[i]+money[j]==fare and new_arr[i]!=0 and new_arr[j]!=0:\n",
        "          print(\"Group\", c, \":\",str (money[i])+\", \"+str(money[j]))\n",
        "          c+=1\n",
        "          new_arr[i]=0\n",
        "          new_arr[j]=0\n",
        "          break\n",
        "  c=0\n",
        "  for k in range(len(money)):\n",
        "    if new_arr[k]==1:\n",
        "      if c==0:\n",
        "        print(\"Ungrouped:\", money [k], end=\" \")\n",
        "        c+=1\n",
        "      else:\n",
        "        print(money[k],end=' ')\n",
        "\n",
        "\n",
        "print(\"///  Task 03: DUBER Fare Splitting  ///\")\n",
        "money = np.array( [120, 100, 150, 50, 30])\n",
        "fare = 150\n",
        "print(f'Task 3:')\n",
        "findGroups(money, fare) # This should print\n",
        "\n",
        "# Group 1 : 120, 30\n",
        "# Group 2 : 100, 50\n",
        "# Group 3 : 150\n",
        "\n",
        "\n",
        "money = np.array( [60, 150, 60, 30, 120, 30])\n",
        "fare = 180\n",
        "print(f'Task 3:')\n",
        "findGroups(money, fare) # This should print\n",
        "\n",
        "# Group 1 : 60, 120\n",
        "# Group 2 : 30, 150\n",
        "# Ungrouped : 30 60"
      ],
      "metadata": {
        "id": "CYtNF5M8itbB",
        "colab": {
          "base_uri": "https://localhost:8080/"
        },
        "outputId": "05be4ad8-de1d-420c-b80b-6572b8628add"
      },
      "execution_count": 24,
      "outputs": [
        {
          "output_type": "stream",
          "name": "stdout",
          "text": [
            "///  Task 03: DUBER Fare Splitting  ///\n",
            "Task 3:\n",
            "Group 1 : 120, 30\n",
            "Group 2 : 100, 50\n",
            "Group 3 : 150\n",
            "Task 3:\n",
            "Group 1 : 60, 120\n",
            "Group 2 : 150, 30\n",
            "Ungrouped: 60 30 "
          ]
        }
      ]
    },
    {
      "cell_type": "code",
      "source": [
        "# Task 04: Get Those Hobbies\n",
        "import numpy as np\n",
        "def analyzeHobbies(* participants): #(* arguments) is used for variable number of parameters\n",
        "    hobbies = np.array([])\n",
        "    c = {}\n",
        "    for i in participants:\n",
        "        for j in i:\n",
        "            unique = True\n",
        "            for unique_hobby in hobbies:\n",
        "                if unique_hobby == j:\n",
        "                    unique = False\n",
        "                    break\n",
        "\n",
        "            if unique:\n",
        "                hobbies = np.concatenate((hobbies, np.array([j])))\n",
        "            if j in c:\n",
        "                c[j] += 1\n",
        "            else:\n",
        "                c[j] = 1\n",
        "\n",
        "\n",
        "    print(\"Unique Activities in the Town:\")\n",
        "    print(list(hobbies))\n",
        "\n",
        "\n",
        "    print(\"\\nStatistics:\")\n",
        "    for j, count in c.items():\n",
        "        print(f\"{count} participant(s) like(s) {j}.\")\n",
        "\n",
        "\n",
        "print(\"///  Task 04: Get Those Hobbies  ///\")\n",
        "participant_1 = np.array( [\"Hiking\", \"Reading\", \"Photography\", \"Cooking\"])\n",
        "participant_2 = np.array( [\"Reading\", \"Hiking\", \"Painting\"])\n",
        "participant_3 = np.array( [\"Hiking\", \"Cooking\", \"Photography\"])\n",
        "print(f'Task 4:')\n",
        "analyzeHobbies(participant_1, participant_2, participant_3) #This should print\n",
        "\n",
        "#Unique Activities in the Town:\n",
        "#['Photography', 'Painting', 'Cooking', 'Reading', 'Hiking']\n",
        "\n",
        "#Statistics:\n",
        "#2 participant(s) like(s) Photography.\n",
        "#1 participant(s) like(s) Painting.\n",
        "#2 participant(s) like(s) Cooking.\n",
        "#2 participant(s) like(s) Reading.\n",
        "#3 participant(s) like(s) Hiking.\n",
        "\n",
        "\n",
        "\n",
        "participant_1 = np.array( [\"Gardening\", \"Traveling\"])\n",
        "participant_2 = np.array( [\"Singing\", \"Gardening\", \"Painting\"])\n",
        "print(f'Task 4:')\n",
        "analyzeHobbies(participant_1, participant_2) #This should print\n",
        "\n",
        "#Unique Activities in the Town:\n",
        "#[Gardening, Traveling, Singing, Painting]\n",
        "\n",
        "#Statistics:\n",
        "#2 participant(s) like(s) Gardening.\n",
        "#1 participant(s) like(s) Traveling.\n",
        "#1 participant(s) like(s) Singing.\n",
        "#1 participant(s) like(s) Painting.\n"
      ],
      "metadata": {
        "id": "SzBe-ByVmV8G",
        "colab": {
          "base_uri": "https://localhost:8080/"
        },
        "outputId": "f76485df-6041-46d0-aa35-ae456174849c"
      },
      "execution_count": 30,
      "outputs": [
        {
          "output_type": "stream",
          "name": "stdout",
          "text": [
            "///  Task 04: Get Those Hobbies  ///\n",
            "Task 4:\n",
            "Unique Activities in the Town:\n",
            "['Hiking', 'Reading', 'Photography', 'Cooking', 'Painting']\n",
            "\n",
            "Statistics:\n",
            "3 participant(s) like(s) Hiking.\n",
            "2 participant(s) like(s) Reading.\n",
            "2 participant(s) like(s) Photography.\n",
            "2 participant(s) like(s) Cooking.\n",
            "1 participant(s) like(s) Painting.\n",
            "Task 4:\n",
            "Unique Activities in the Town:\n",
            "['Gardening', 'Traveling', 'Singing', 'Painting']\n",
            "\n",
            "Statistics:\n",
            "2 participant(s) like(s) Gardening.\n",
            "1 participant(s) like(s) Traveling.\n",
            "1 participant(s) like(s) Singing.\n",
            "1 participant(s) like(s) Painting.\n"
          ]
        }
      ]
    },
    {
      "cell_type": "code",
      "source": [
        "# Bonus Ungraded Task: Look and Say\n",
        "import numpy as np\n",
        "def look_and_say(arr):\n",
        "    n=len(arr)\n",
        "    a=np.zeros(100, dtype=int)\n",
        "    i=0\n",
        "    j=0\n",
        "\n",
        "    while i<n:\n",
        "        c=1\n",
        "        while i < n-1 and arr[i]==arr[i+1]:\n",
        "            i+=1\n",
        "            c+=1\n",
        "\n",
        "        a[j]=c\n",
        "        a[j+1]=arr[i]\n",
        "        j+=2\n",
        "        i+=1\n",
        "\n",
        "    return a\n",
        "\n",
        "print(\"///  Bonus Task: Look and Say  ///\")\n",
        "arr = np.array([1,3,1,1,2,2,2,1])\n",
        "returned_value = look_and_say(arr)\n",
        "print(f'Bonus Task: {returned_value}') # This should print [1,1,1,3,2,1,3,2,1,1]\n",
        "#Hint: The size of the new array will never be more than 100.\n",
        "#[You need not worry about the extra zeroes at the end of your resulting array]\n"
      ],
      "metadata": {
        "id": "sTJ7GNezm6uu",
        "colab": {
          "base_uri": "https://localhost:8080/"
        },
        "outputId": "384b38ae-c035-4ca6-895a-13a0d0ae99e1"
      },
      "execution_count": null,
      "outputs": [
        {
          "output_type": "stream",
          "name": "stdout",
          "text": [
            "///  Bonus Task: Look and Say  ///\n",
            "Bonus Task: [1 1 1 3 2 1 3 2 1 1 0 0 0 0 0 0 0 0 0 0 0 0 0 0 0 0 0 0 0 0 0 0 0 0 0 0 0\n",
            " 0 0 0 0 0 0 0 0 0 0 0 0 0 0 0 0 0 0 0 0 0 0 0 0 0 0 0 0 0 0 0 0 0 0 0 0 0\n",
            " 0 0 0 0 0 0 0 0 0 0 0 0 0 0 0 0 0 0 0 0 0 0 0 0 0 0]\n"
          ]
        }
      ]
    },
    {
      "cell_type": "markdown",
      "source": [
        "For Assignment Part-1, you can create new code cells in the below and write your codes there. Also you should write driver codes to test your code for part-1."
      ],
      "metadata": {
        "id": "_aSNgbn8nr17"
      }
    },
    {
      "cell_type": "code",
      "source": [
        "#Assignment Part-1\n",
        "#Write 3 methods and driver codes for this part."
      ],
      "metadata": {
        "id": "CxJHbg7onWwN"
      },
      "execution_count": null,
      "outputs": []
    },
    {
      "cell_type": "code",
      "source": [
        "import numpy as np\n",
        "def mean_c(array):\n",
        "      sum=0\n",
        "      for  i in range(len(array)):\n",
        "             sum+=array[i]\n",
        "      mean=sum/len(array)\n",
        "      return mean\n",
        "\n",
        "def stdv(array):\n",
        "  mean = mean_c(array)\n",
        "  sum = 0\n",
        "  for j in range(len(array)):\n",
        "    sum = sum + (array[j] - mean)**2\n",
        "  std_div = (sum/len(array)-1)**(1/2)\n",
        "  return std_div\n",
        "\n",
        "def final_result(array):\n",
        "  final = stdv(array)\n",
        "  upper = mean_c(array) + 1.5*final\n",
        "  lower = mean_c(array) - 1.5*final\n",
        "\n",
        "  count = 0\n",
        "  for i in range(len(array)):\n",
        "    if(upper<=array[i]  or lower>= array[i]  ):\n",
        "        count += 1\n",
        "  final_array = np.zeros(count, dtype = int)\n",
        "  index = 0\n",
        "  for i in range(len(array)):\n",
        "    if(array[i] <= lower or array[i] >= upper ):\n",
        "      final_array [index] = array[i]\n",
        "      index+=1\n",
        "  return final_array\n",
        "\n",
        "\n",
        "\n",
        "array=[10, 8, 13, 9, 14, 25, -5, 20, 7, 7, 4]\n",
        "array=np.array(array)\n",
        "print(f'The mean of the numbers is: {mean_c(array):.12f}')\n",
        "print(f'The standard deviation is: {stdv(array):.2f}')\n",
        "print(f'New array: {final_result(array)}')"
      ],
      "metadata": {
        "id": "s-dXmnPUuJqu",
        "colab": {
          "base_uri": "https://localhost:8080/"
        },
        "outputId": "8b40ce09-ab09-4d19-b87c-f8ece2672c1f"
      },
      "execution_count": 31,
      "outputs": [
        {
          "output_type": "stream",
          "name": "stdout",
          "text": [
            "The mean of the numbers is: 10.181818181818\n",
            "The standard deviation is: 7.52\n",
            "New array: [25 -5]\n"
          ]
        }
      ]
    }
  ]
}